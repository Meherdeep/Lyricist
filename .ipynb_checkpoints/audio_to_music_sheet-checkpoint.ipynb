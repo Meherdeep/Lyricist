{
 "cells": [
  {
   "cell_type": "code",
   "execution_count": 90,
   "metadata": {},
   "outputs": [],
   "source": [
    "from mingus.midi import fluidsynth as fs\n",
    "from mingus.midi import midi_track\n",
    "import mingus.midi.midi_file_out as mfo\n",
    "from mingus.containers.note_container import NoteContainer\n",
    "import time"
   ]
  },
  {
   "cell_type": "code",
   "execution_count": 103,
   "metadata": {},
   "outputs": [
    {
     "data": {
      "text/plain": [
       "True"
      ]
     },
     "execution_count": 103,
     "metadata": {},
     "output_type": "execute_result"
    }
   ],
   "source": [
    "# import the file for a particular instrument\n",
    "fs.init('/SoundFont/GrandPiano.sf2','Direct Sound')"
   ]
  },
  {
   "cell_type": "code",
   "execution_count": 117,
   "metadata": {},
   "outputs": [
    {
     "data": {
      "text/plain": [
       "True"
      ]
     },
     "execution_count": 117,
     "metadata": {},
     "output_type": "execute_result"
    }
   ],
   "source": [
    "# generates the midi file\n",
    "nc = NoteContainer([\"A\", \"C\", \"E\"])\n",
    "mfo.write_NoteContainer(\"test.mid\", nc)"
   ]
  },
  {
   "cell_type": "code",
   "execution_count": 118,
   "metadata": {},
   "outputs": [
    {
     "data": {
      "text/plain": [
       "True"
      ]
     },
     "execution_count": 118,
     "metadata": {},
     "output_type": "execute_result"
    }
   ],
   "source": [
    "#plays the midi file\n",
    "fs.set_instrument(0, 14)\n",
    "fs.play_NoteContainer(nc,1,50)"
   ]
  },
  {
   "cell_type": "code",
   "execution_count": 119,
   "metadata": {},
   "outputs": [
    {
     "data": {
      "text/plain": [
       "True"
      ]
     },
     "execution_count": 119,
     "metadata": {},
     "output_type": "execute_result"
    }
   ],
   "source": [
    "fs.play_NoteContainer(nc, channel=1, velocity=100)"
   ]
  },
  {
   "cell_type": "code",
   "execution_count": 121,
   "metadata": {},
   "outputs": [],
   "source": [
    "import soundfile\n",
    "import resampy\n",
    "import vamp\n",
    "import argparse\n",
    "import os\n",
    "import numpy as np\n",
    "from midiutil.MidiFile import MIDIFile\n",
    "from scipy.signal import medfilt\n",
    "import jams"
   ]
  },
  {
   "cell_type": "code",
   "execution_count": 122,
   "metadata": {},
   "outputs": [],
   "source": [
    "def save_jams(jamsfile, notes, track_duration, orig_filename):\n",
    "\n",
    "    # Construct a new JAMS object and annotation records\n",
    "    jam = jams.JAMS()\n",
    "\n",
    "    # Store the track duration\n",
    "    jam.file_metadata.duration = track_duration\n",
    "    jam.file_metadata.title = orig_filename\n",
    "\n",
    "    midi_an = jams.Annotation(namespace='pitch_midi',\n",
    "                              duration=track_duration)\n",
    "    midi_an.annotation_metadata = \\\n",
    "        jams.AnnotationMetadata(\n",
    "            data_source='audio_to_midi_melodia.py v%s' % __init__.__version__,\n",
    "            annotation_tools='audio_to_midi_melodia.py (https://github.com/'\n",
    "                             'justinsalamon/audio_to_midi_melodia)')\n",
    "\n",
    "    # Add midi notes to the annotation record.\n",
    "    for n in notes:\n",
    "        midi_an.append(time=n[0], duration=n[1], value=n[2], confidence=0)\n",
    "\n",
    "    # Store the new annotation in the jam\n",
    "    jam.annotations.append(midi_an)\n",
    "\n",
    "    # Save to disk\n",
    "    jam.save(jamsfile)\n"
   ]
  },
  {
   "cell_type": "code",
   "execution_count": 123,
   "metadata": {},
   "outputs": [],
   "source": [
    "def save_midi(outfile, notes, tempo):\n",
    "\n",
    "    track = 0\n",
    "    time = 0\n",
    "    midifile = MIDIFile(1)\n",
    "\n",
    "    # Add track name and tempo.\n",
    "    midifile.addTrackName(track, time, \"MIDI TRACK\")\n",
    "    midifile.addTempo(track, time, tempo)\n",
    "\n",
    "    channel = 0\n",
    "    volume = 100\n",
    "\n",
    "    for note in notes:\n",
    "        onset = note[0] * (tempo/60.)\n",
    "        duration = note[1] * (tempo/60.)\n",
    "        # duration = 1\n",
    "        pitch = note[2]\n",
    "        midifile.addNote(track, channel, pitch, onset, duration, volume)\n",
    "\n",
    "    # And write it to disk.\n",
    "    binfile = open(outfile, 'wb')\n",
    "    midifile.writeFile(binfile)\n",
    "    binfile.close()"
   ]
  },
  {
   "cell_type": "code",
   "execution_count": 137,
   "metadata": {},
   "outputs": [],
   "source": [
    "def midi_to_notes(midi, fs, hop, smooth, minduration):\n",
    "\n",
    "    # smooth midi pitch sequence first\n",
    "    if (smooth > 0):\n",
    "        filter_duration = smooth  # in seconds\n",
    "        filter_size = int(filter_duration * fs / float(hop))\n",
    "        if filter_size % 2 == 0:\n",
    "            filter_size += 1\n",
    "        midi_filt = medfilt(midi, filter_size)\n",
    "    else:\n",
    "        midi_filt = midi\n",
    "    # print(len(midi),len(midi_filt))\n",
    "\n",
    "    notes = []\n",
    "    p_prev = 0\n",
    "    duration = 0\n",
    "    onset = 0\n",
    "    for n, p in enumerate(midi_filt):\n",
    "        if p == p_prev:\n",
    "            duration += 1\n",
    "        else:\n",
    "            # treat 0 as silence\n",
    "            if p_prev > 0:\n",
    "                # add note\n",
    "                duration_sec = duration * hop / float(fs)\n",
    "                # only add notes that are long enough\n",
    "                if duration_sec >= minduration:\n",
    "                    onset_sec = onset * hop / float(fs)\n",
    "                    notes.append((onset_sec, duration_sec, p_prev))\n",
    "\n",
    "            # start new note\n",
    "            onset = n\n",
    "            duration = 1\n",
    "            p_prev = p\n",
    "\n",
    "    # add last note\n",
    "    if p_prev > 0:\n",
    "        # add note\n",
    "        duration_sec = duration * hop / float(fs)\n",
    "        onset_sec = onset * hop / float(fs)\n",
    "        notes.append((onset_sec, duration_sec, p_prev))\n",
    "\n",
    "    return notes"
   ]
  },
  {
   "cell_type": "code",
   "execution_count": 138,
   "metadata": {},
   "outputs": [],
   "source": [
    "def hz2midi(hz):\n",
    "\n",
    "    # convert from Hz to midi note\n",
    "    hz_nonneg = hz.copy()\n",
    "    idx = hz_nonneg <= 0\n",
    "    hz_nonneg[idx] = 1\n",
    "    midi = 69 + 12*np.log2(hz_nonneg/440.)\n",
    "    midi[idx] = 0\n",
    "\n",
    "    # round\n",
    "    midi = np.round(midi)\n",
    "\n",
    "    return midi"
   ]
  },
  {
   "cell_type": "code",
   "execution_count": 139,
   "metadata": {},
   "outputs": [],
   "source": [
    "def audio_to_midi_melodia(infile, outfile, bpm, smooth=0.25, minduration=0.1,\n",
    "                          savejams=False):\n",
    "\n",
    "    # define analysis parameters\n",
    "    fs = 44100\n",
    "    hop = 128\n",
    "\n",
    "    # load audio using librosa\n",
    "    print(\"Loading audio...\")\n",
    "    data, sr = soundfile.read(infile)\n",
    "    # mixdown to mono if needed\n",
    "    if len(data.shape) > 1 and data.shape[1] > 1:\n",
    "        data = data.mean(axis=1)\n",
    "    # resample to 44100 if needed\n",
    "    if sr != fs:\n",
    "        data = resampy.resample(data, sr, fs)\n",
    "        sr = fs\n",
    "\n",
    "    # extract melody using melodia vamp plugin\n",
    "    print(\"Extracting melody f0 with MELODIA...\")\n",
    "    melody = vamp.collect(data, sr, \"mtg-melodia:melodia\",\n",
    "                          parameters={\"voicing\": 0.2})\n",
    "\n",
    "    # hop = melody['vector'][0]\n",
    "    pitch = melody['vector'][1]\n",
    "\n",
    "    # impute missing 0's to compensate for starting timestamp\n",
    "    pitch = np.insert(pitch, 0, [0]*8)\n",
    "\n",
    "    # debug\n",
    "    # np.asarray(pitch).dump('f0.npy')\n",
    "    # print(len(pitch))\n",
    "\n",
    "    # convert f0 to midi notes\n",
    "    print(\"Converting Hz to MIDI notes...\")\n",
    "    midi_pitch = hz2midi(pitch)\n",
    "\n",
    "    # segment sequence into individual midi notes\n",
    "    notes = midi_to_notes(midi_pitch, fs, hop, smooth, minduration)\n",
    "\n",
    "    # save note sequence to a midi file\n",
    "    print(\"Saving MIDI to disk...\")\n",
    "    save_midi(outfile, notes, bpm)\n",
    "\n",
    "    if savejams:\n",
    "        print(\"Saving JAMS to disk...\")\n",
    "        jamsfile = os.path.splitext(outfile)[0] + \".jams\"\n",
    "        track_duration = len(data) / float(fs)\n",
    "        save_jams(jamsfile, notes, track_duration, os.path.basename(infile))\n",
    "\n",
    "    print(\"Conversion complete.\")"
   ]
  },
  {
   "cell_type": "code",
   "execution_count": 145,
   "metadata": {},
   "outputs": [
    {
     "name": "stdout",
     "output_type": "stream",
     "text": [
      "Loading audio...\n",
      "Extracting melody f0 with MELODIA...\n",
      "Converting Hz to MIDI notes...\n",
      "Saving MIDI to disk...\n"
     ]
    },
    {
     "ename": "TypeError",
     "evalue": "unsupported operand type(s) for /: 'int' and 'str'",
     "output_type": "error",
     "traceback": [
      "\u001b[0;31m---------------------------------------------------------------------------\u001b[0m",
      "\u001b[0;31mTypeError\u001b[0m                                 Traceback (most recent call last)",
      "\u001b[0;32m<ipython-input-145-dce3b5f2d7e0>\u001b[0m in \u001b[0;36m<module>\u001b[0;34m\u001b[0m\n\u001b[0;32m----> 1\u001b[0;31m \u001b[0maudio_to_midi_melodia\u001b[0m\u001b[0;34m(\u001b[0m\u001b[0;34m'sample.wav'\u001b[0m\u001b[0;34m,\u001b[0m\u001b[0;34m'test_2.mid'\u001b[0m\u001b[0;34m,\u001b[0m\u001b[0;34m\" \"\u001b[0m\u001b[0;34m)\u001b[0m\u001b[0;34m\u001b[0m\u001b[0;34m\u001b[0m\u001b[0m\n\u001b[0m",
      "\u001b[0;32m<ipython-input-139-a2ab1c734847>\u001b[0m in \u001b[0;36maudio_to_midi_melodia\u001b[0;34m(infile, outfile, bpm, smooth, minduration, savejams)\u001b[0m\n\u001b[1;32m     41\u001b[0m     \u001b[0;31m# save note sequence to a midi file\u001b[0m\u001b[0;34m\u001b[0m\u001b[0;34m\u001b[0m\u001b[0;34m\u001b[0m\u001b[0m\n\u001b[1;32m     42\u001b[0m     \u001b[0mprint\u001b[0m\u001b[0;34m(\u001b[0m\u001b[0;34m\"Saving MIDI to disk...\"\u001b[0m\u001b[0;34m)\u001b[0m\u001b[0;34m\u001b[0m\u001b[0;34m\u001b[0m\u001b[0m\n\u001b[0;32m---> 43\u001b[0;31m     \u001b[0msave_midi\u001b[0m\u001b[0;34m(\u001b[0m\u001b[0moutfile\u001b[0m\u001b[0;34m,\u001b[0m \u001b[0mnotes\u001b[0m\u001b[0;34m,\u001b[0m \u001b[0mbpm\u001b[0m\u001b[0;34m)\u001b[0m\u001b[0;34m\u001b[0m\u001b[0;34m\u001b[0m\u001b[0m\n\u001b[0m\u001b[1;32m     44\u001b[0m \u001b[0;34m\u001b[0m\u001b[0m\n\u001b[1;32m     45\u001b[0m     \u001b[0;32mif\u001b[0m \u001b[0msavejams\u001b[0m\u001b[0;34m:\u001b[0m\u001b[0;34m\u001b[0m\u001b[0;34m\u001b[0m\u001b[0m\n",
      "\u001b[0;32m<ipython-input-123-95421dccb31c>\u001b[0m in \u001b[0;36msave_midi\u001b[0;34m(outfile, notes, tempo)\u001b[0m\n\u001b[1;32m      7\u001b[0m     \u001b[0;31m# Add track name and tempo.\u001b[0m\u001b[0;34m\u001b[0m\u001b[0;34m\u001b[0m\u001b[0;34m\u001b[0m\u001b[0m\n\u001b[1;32m      8\u001b[0m     \u001b[0mmidifile\u001b[0m\u001b[0;34m.\u001b[0m\u001b[0maddTrackName\u001b[0m\u001b[0;34m(\u001b[0m\u001b[0mtrack\u001b[0m\u001b[0;34m,\u001b[0m \u001b[0mtime\u001b[0m\u001b[0;34m,\u001b[0m \u001b[0;34m\"MIDI TRACK\"\u001b[0m\u001b[0;34m)\u001b[0m\u001b[0;34m\u001b[0m\u001b[0;34m\u001b[0m\u001b[0m\n\u001b[0;32m----> 9\u001b[0;31m     \u001b[0mmidifile\u001b[0m\u001b[0;34m.\u001b[0m\u001b[0maddTempo\u001b[0m\u001b[0;34m(\u001b[0m\u001b[0mtrack\u001b[0m\u001b[0;34m,\u001b[0m \u001b[0mtime\u001b[0m\u001b[0;34m,\u001b[0m \u001b[0mtempo\u001b[0m\u001b[0;34m)\u001b[0m\u001b[0;34m\u001b[0m\u001b[0;34m\u001b[0m\u001b[0m\n\u001b[0m\u001b[1;32m     10\u001b[0m \u001b[0;34m\u001b[0m\u001b[0m\n\u001b[1;32m     11\u001b[0m     \u001b[0mchannel\u001b[0m \u001b[0;34m=\u001b[0m \u001b[0;36m0\u001b[0m\u001b[0;34m\u001b[0m\u001b[0;34m\u001b[0m\u001b[0m\n",
      "\u001b[0;32m~/anaconda3/lib/python3.8/site-packages/midiutil/MidiFile.py\u001b[0m in \u001b[0;36maddTempo\u001b[0;34m(self, track, time, tempo)\u001b[0m\n\u001b[1;32m   1197\u001b[0m         \u001b[0;32mif\u001b[0m \u001b[0mself\u001b[0m\u001b[0;34m.\u001b[0m\u001b[0mheader\u001b[0m\u001b[0;34m.\u001b[0m\u001b[0mnumeric_format\u001b[0m \u001b[0;34m==\u001b[0m \u001b[0;36m1\u001b[0m\u001b[0;34m:\u001b[0m\u001b[0;34m\u001b[0m\u001b[0;34m\u001b[0m\u001b[0m\n\u001b[1;32m   1198\u001b[0m             \u001b[0mtrack\u001b[0m \u001b[0;34m=\u001b[0m \u001b[0;36m0\u001b[0m\u001b[0;34m\u001b[0m\u001b[0;34m\u001b[0m\u001b[0m\n\u001b[0;32m-> 1199\u001b[0;31m         self.tracks[track].addTempo(self.time_to_ticks(time), tempo,\n\u001b[0m\u001b[1;32m   1200\u001b[0m                                     insertion_order=self.event_counter)\n\u001b[1;32m   1201\u001b[0m         \u001b[0mself\u001b[0m\u001b[0;34m.\u001b[0m\u001b[0mevent_counter\u001b[0m \u001b[0;34m+=\u001b[0m \u001b[0;36m1\u001b[0m\u001b[0;34m\u001b[0m\u001b[0;34m\u001b[0m\u001b[0m\n",
      "\u001b[0;32m~/anaconda3/lib/python3.8/site-packages/midiutil/MidiFile.py\u001b[0m in \u001b[0;36maddTempo\u001b[0;34m(self, tick, tempo, insertion_order)\u001b[0m\n\u001b[1;32m    687\u001b[0m         \u001b[0mAdd\u001b[0m \u001b[0ma\u001b[0m \u001b[0mtempo\u001b[0m \u001b[0mchange\u001b[0m \u001b[0;34m(\u001b[0m\u001b[0;32mor\u001b[0m \u001b[0mset\u001b[0m\u001b[0;34m)\u001b[0m \u001b[0mevent\u001b[0m\u001b[0;34m.\u001b[0m\u001b[0;34m\u001b[0m\u001b[0;34m\u001b[0m\u001b[0m\n\u001b[1;32m    688\u001b[0m         '''\n\u001b[0;32m--> 689\u001b[0;31m         self.eventList.append(Tempo(tick, tempo,\n\u001b[0m\u001b[1;32m    690\u001b[0m                                     insertion_order=insertion_order))\n\u001b[1;32m    691\u001b[0m \u001b[0;34m\u001b[0m\u001b[0m\n",
      "\u001b[0;32m~/anaconda3/lib/python3.8/site-packages/midiutil/MidiFile.py\u001b[0m in \u001b[0;36m__init__\u001b[0;34m(self, tick, tempo, insertion_order)\u001b[0m\n\u001b[1;32m    180\u001b[0m \u001b[0;34m\u001b[0m\u001b[0m\n\u001b[1;32m    181\u001b[0m     \u001b[0;32mdef\u001b[0m \u001b[0m__init__\u001b[0m\u001b[0;34m(\u001b[0m\u001b[0mself\u001b[0m\u001b[0;34m,\u001b[0m \u001b[0mtick\u001b[0m\u001b[0;34m,\u001b[0m \u001b[0mtempo\u001b[0m\u001b[0;34m,\u001b[0m \u001b[0minsertion_order\u001b[0m\u001b[0;34m=\u001b[0m\u001b[0;36m0\u001b[0m\u001b[0;34m)\u001b[0m\u001b[0;34m:\u001b[0m\u001b[0;34m\u001b[0m\u001b[0;34m\u001b[0m\u001b[0m\n\u001b[0;32m--> 182\u001b[0;31m         \u001b[0mself\u001b[0m\u001b[0;34m.\u001b[0m\u001b[0mtempo\u001b[0m \u001b[0;34m=\u001b[0m \u001b[0mint\u001b[0m\u001b[0;34m(\u001b[0m\u001b[0;36m60000000\u001b[0m \u001b[0;34m/\u001b[0m \u001b[0mtempo\u001b[0m\u001b[0;34m)\u001b[0m\u001b[0;34m\u001b[0m\u001b[0;34m\u001b[0m\u001b[0m\n\u001b[0m\u001b[1;32m    183\u001b[0m         \u001b[0msuper\u001b[0m\u001b[0;34m(\u001b[0m\u001b[0mTempo\u001b[0m\u001b[0;34m,\u001b[0m \u001b[0mself\u001b[0m\u001b[0;34m)\u001b[0m\u001b[0;34m.\u001b[0m\u001b[0m__init__\u001b[0m\u001b[0;34m(\u001b[0m\u001b[0mtick\u001b[0m\u001b[0;34m,\u001b[0m \u001b[0minsertion_order\u001b[0m\u001b[0;34m)\u001b[0m\u001b[0;34m\u001b[0m\u001b[0;34m\u001b[0m\u001b[0m\n\u001b[1;32m    184\u001b[0m \u001b[0;34m\u001b[0m\u001b[0m\n",
      "\u001b[0;31mTypeError\u001b[0m: unsupported operand type(s) for /: 'int' and 'str'"
     ]
    }
   ],
   "source": [
    "audio_to_midi_melodia('sample.wav','test_2.mid',120)"
   ]
  },
  {
   "cell_type": "code",
   "execution_count": null,
   "metadata": {},
   "outputs": [],
   "source": []
  }
 ],
 "metadata": {
  "kernelspec": {
   "display_name": "Python 3",
   "language": "python",
   "name": "python3"
  },
  "language_info": {
   "codemirror_mode": {
    "name": "ipython",
    "version": 3
   },
   "file_extension": ".py",
   "mimetype": "text/x-python",
   "name": "python",
   "nbconvert_exporter": "python",
   "pygments_lexer": "ipython3",
   "version": "3.8.3"
  }
 },
 "nbformat": 4,
 "nbformat_minor": 4
}
